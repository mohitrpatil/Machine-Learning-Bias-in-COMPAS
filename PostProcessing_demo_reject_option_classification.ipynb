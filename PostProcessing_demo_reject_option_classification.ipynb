{
  "cells": [
    {
      "cell_type": "code",
      "execution_count": 1,
      "metadata": {
        "colab": {
          "base_uri": "https://localhost:8080/"
        },
        "id": "q21NTPqpbcHi",
        "outputId": "a77c0895-fe2d-4804-b7f8-e371f14f304a"
      },
      "outputs": [
        {
          "output_type": "stream",
          "name": "stdout",
          "text": [
            "Looking in indexes: https://pypi.org/simple, https://us-python.pkg.dev/colab-wheels/public/simple/\n",
            "Collecting aif360\n",
            "  Downloading aif360-0.5.0-py3-none-any.whl (214 kB)\n",
            "\u001b[K     |████████████████████████████████| 214 kB 4.5 MB/s \n",
            "\u001b[?25hRequirement already satisfied: scikit-learn>=1.0 in /usr/local/lib/python3.8/dist-packages (from aif360) (1.0.2)\n",
            "Requirement already satisfied: scipy>=1.2.0 in /usr/local/lib/python3.8/dist-packages (from aif360) (1.7.3)\n",
            "Requirement already satisfied: matplotlib in /usr/local/lib/python3.8/dist-packages (from aif360) (3.2.2)\n",
            "Requirement already satisfied: numpy>=1.16 in /usr/local/lib/python3.8/dist-packages (from aif360) (1.21.6)\n",
            "Requirement already satisfied: pandas>=0.24.0 in /usr/local/lib/python3.8/dist-packages (from aif360) (1.3.5)\n",
            "Requirement already satisfied: python-dateutil>=2.7.3 in /usr/local/lib/python3.8/dist-packages (from pandas>=0.24.0->aif360) (2.8.2)\n",
            "Requirement already satisfied: pytz>=2017.3 in /usr/local/lib/python3.8/dist-packages (from pandas>=0.24.0->aif360) (2022.6)\n",
            "Requirement already satisfied: six>=1.5 in /usr/local/lib/python3.8/dist-packages (from python-dateutil>=2.7.3->pandas>=0.24.0->aif360) (1.15.0)\n",
            "Requirement already satisfied: joblib>=0.11 in /usr/local/lib/python3.8/dist-packages (from scikit-learn>=1.0->aif360) (1.2.0)\n",
            "Requirement already satisfied: threadpoolctl>=2.0.0 in /usr/local/lib/python3.8/dist-packages (from scikit-learn>=1.0->aif360) (3.1.0)\n",
            "Requirement already satisfied: kiwisolver>=1.0.1 in /usr/local/lib/python3.8/dist-packages (from matplotlib->aif360) (1.4.4)\n",
            "Requirement already satisfied: pyparsing!=2.0.4,!=2.1.2,!=2.1.6,>=2.0.1 in /usr/local/lib/python3.8/dist-packages (from matplotlib->aif360) (3.0.9)\n",
            "Requirement already satisfied: cycler>=0.10 in /usr/local/lib/python3.8/dist-packages (from matplotlib->aif360) (0.11.0)\n",
            "Installing collected packages: aif360\n",
            "Successfully installed aif360-0.5.0\n",
            "Looking in indexes: https://pypi.org/simple, https://us-python.pkg.dev/colab-wheels/public/simple/\n",
            "Requirement already satisfied: aif360[Reductions] in /usr/local/lib/python3.8/dist-packages (0.5.0)\n",
            "Requirement already satisfied: scipy>=1.2.0 in /usr/local/lib/python3.8/dist-packages (from aif360[Reductions]) (1.7.3)\n",
            "Requirement already satisfied: pandas>=0.24.0 in /usr/local/lib/python3.8/dist-packages (from aif360[Reductions]) (1.3.5)\n",
            "Requirement already satisfied: numpy>=1.16 in /usr/local/lib/python3.8/dist-packages (from aif360[Reductions]) (1.21.6)\n",
            "Requirement already satisfied: scikit-learn>=1.0 in /usr/local/lib/python3.8/dist-packages (from aif360[Reductions]) (1.0.2)\n",
            "Requirement already satisfied: matplotlib in /usr/local/lib/python3.8/dist-packages (from aif360[Reductions]) (3.2.2)\n",
            "Collecting fairlearn~=0.7\n",
            "  Downloading fairlearn-0.8.0-py3-none-any.whl (235 kB)\n",
            "\u001b[K     |████████████████████████████████| 235 kB 4.4 MB/s \n",
            "\u001b[?25hRequirement already satisfied: python-dateutil>=2.7.3 in /usr/local/lib/python3.8/dist-packages (from pandas>=0.24.0->aif360[Reductions]) (2.8.2)\n",
            "Requirement already satisfied: pytz>=2017.3 in /usr/local/lib/python3.8/dist-packages (from pandas>=0.24.0->aif360[Reductions]) (2022.6)\n",
            "Requirement already satisfied: six>=1.5 in /usr/local/lib/python3.8/dist-packages (from python-dateutil>=2.7.3->pandas>=0.24.0->aif360[Reductions]) (1.15.0)\n",
            "Requirement already satisfied: threadpoolctl>=2.0.0 in /usr/local/lib/python3.8/dist-packages (from scikit-learn>=1.0->aif360[Reductions]) (3.1.0)\n",
            "Requirement already satisfied: joblib>=0.11 in /usr/local/lib/python3.8/dist-packages (from scikit-learn>=1.0->aif360[Reductions]) (1.2.0)\n",
            "Requirement already satisfied: cycler>=0.10 in /usr/local/lib/python3.8/dist-packages (from matplotlib->aif360[Reductions]) (0.11.0)\n",
            "Requirement already satisfied: pyparsing!=2.0.4,!=2.1.2,!=2.1.6,>=2.0.1 in /usr/local/lib/python3.8/dist-packages (from matplotlib->aif360[Reductions]) (3.0.9)\n",
            "Requirement already satisfied: kiwisolver>=1.0.1 in /usr/local/lib/python3.8/dist-packages (from matplotlib->aif360[Reductions]) (1.4.4)\n",
            "Installing collected packages: fairlearn\n",
            "Successfully installed fairlearn-0.8.0\n"
          ]
        },
        {
          "output_type": "stream",
          "name": "stderr",
          "text": [
            "WARNING:root:No module named 'tempeh': LawSchoolGPADataset will be unavailable. To install, run:\n",
            "pip install 'aif360[LawSchoolGPA]'\n"
          ]
        }
      ],
      "source": [
        "!pip install aif360\n",
        "!pip install 'aif360[Reductions]'\n",
        "%matplotlib inline\n",
        "# Load all necessary packages\n",
        "from sklearn.naive_bayes import GaussianNB\n",
        "import sys\n",
        "sys.path.append(\"../\")\n",
        "import numpy as np\n",
        "from collections import OrderedDict\n",
        "import shutil\n",
        "import seaborn as sns\n",
        "from sklearn.svm import SVC, LinearSVC\n",
        "from tqdm import tqdm\n",
        "from warnings import warn\n",
        "import pandas as pd\n",
        "import operator\n",
        "\n",
        "from sklearn.linear_model import LogisticRegression\n",
        "from sklearn.preprocessing import StandardScaler\n",
        "from sklearn.metrics import accuracy_score\n",
        "from sklearn.ensemble import RandomForestClassifier\n",
        "\n",
        "from aif360.datasets import BinaryLabelDataset\n",
        "from aif360.datasets import AdultDataset, GermanDataset, CompasDataset\n",
        "from aif360.metrics import ClassificationMetric, BinaryLabelDatasetMetric\n",
        "from aif360.metrics.utils import compute_boolean_conditioning_vector\n",
        "from aif360.algorithms.postprocessing.reject_option_classification import RejectOptionClassification\n",
        "\n",
        "import matplotlib.pyplot as plt\n",
        "from ipywidgets import interactive, FloatSlider"
      ]
    },
    {
      "cell_type": "code",
      "execution_count": 2,
      "metadata": {
        "colab": {
          "base_uri": "https://localhost:8080/",
          "height": 36
        },
        "id": "31FYA2CDREmB",
        "outputId": "d88bb118-c566-4957-df97-010f6eb1ec81"
      },
      "outputs": [
        {
          "output_type": "execute_result",
          "data": {
            "text/plain": [
              "'/usr/local/lib/python3.8/dist-packages/aif360/data/raw/compas/compas-scores-two-years.csv'"
            ],
            "application/vnd.google.colaboratory.intrinsic+json": {
              "type": "string"
            }
          },
          "metadata": {},
          "execution_count": 2
        }
      ],
      "source": [
        "import shutil\n",
        "\n",
        "original = r'/content/compas-scores-two-years.csv'\n",
        "target = r'/usr/local/lib/python3.8/dist-packages/aif360/data/raw/compas'\n",
        "shutil.copy(original,target)"
      ]
    },
    {
      "cell_type": "code",
      "execution_count": 3,
      "metadata": {
        "id": "AGBMAwSaX4Pg"
      },
      "outputs": [],
      "source": [
        "def compute_metrics(dataset_true, dataset_pred, non_privileged, privileged, disp = True):\n",
        "    pred_classification_metric = ClassificationMetric(dataset_true,\n",
        "                                                 dataset_pred, \n",
        "                                                 unprivileged_groups=non_privileged,\n",
        "                                                 privileged_groups=privileged)\n",
        "    metrics_dict = OrderedDict()\n",
        "    metrics_dict[\"Balanced accuracy\"] = (pred_classification_metric.true_positive_rate()+pred_classification_metric.true_negative_rate())/2\n",
        "    metrics_dict[\"Statistical parity difference\"] = pred_classification_metric.statistical_parity_difference()\n",
        "    metrics_dict[\"Disparate impact\"] = pred_classification_metric.disparate_impact()\n",
        "    metrics_dict[\"Average odds difference\"] = pred_classification_metric.average_odds_difference()\n",
        "    metrics_dict[\"Equal opportunity difference\"] = pred_classification_metric.equal_opportunity_difference()\n",
        "    metrics_dict[\"Theil index\"] = pred_classification_metric.theil_index()\n",
        "\n",
        "    if disp == True:\n",
        "        for key, value in metrics_dict.items():\n",
        "            print(str(key) +\" = \"+ str(value))\n",
        "\n",
        "    return metrics_dict"
      ]
    },
    {
      "cell_type": "markdown",
      "metadata": {
        "id": "Alg7P9KObcHk"
      },
      "source": [
        "#### Load dataset and specify options"
      ]
    },
    {
      "cell_type": "code",
      "execution_count": 4,
      "metadata": {
        "id": "6MX5GoH4ylAE"
      },
      "outputs": [],
      "source": [
        "def load_preproc_data_compas_data(protected_attributes):\n",
        "    def preprocessing(df):\n",
        "        df = df[['age', 'c_charge_degree', 'race', 'age_cat', 'score_text','sex', 'priors_count', 'days_b_screening_arrest', 'decile_score','is_recid', 'two_year_recid', 'c_jail_in', 'c_jail_out']]\n",
        "        \n",
        "        features = ['two_year_recid','sex', 'race','age_cat', 'priors_count', 'c_charge_degree']\n",
        "\n",
        "        def quantizeLOS(x):\n",
        "            if x<= 7:\n",
        "                return '<week'\n",
        "            if 8<x<=93:\n",
        "                return '<3months'\n",
        "            else:\n",
        "                return '>3 months'\n",
        "\n",
        "        def quantizePrior(x):\n",
        "            if x <=0:\n",
        "                return '0'\n",
        "            elif 1<=x<=3:\n",
        "                return '1 to 3'\n",
        "            else:\n",
        "                return 'More than 3'\n",
        "\n",
        "        def quantizeScore(x):\n",
        "            if (x == 'High')| (x == 'Medium'):\n",
        "                return 'MediumHigh'\n",
        "            else:\n",
        "                return x\n",
        "\n",
        "        def group_race(x):\n",
        "            if x == \"Caucasian\":\n",
        "                return 1.0\n",
        "            else:\n",
        "                return 0.0\n",
        "\n",
        "        def adjustAge(x):\n",
        "            if x == '25 - 45':\n",
        "                return '25 to 45'\n",
        "            else:\n",
        "                return x\n",
        "\n",
        "        indx = df['days_b_screening_arrest'] <= 30\n",
        "        indx = (df['is_recid'] != -1) & indx\n",
        "        indx = (df['days_b_screening_arrest'] >= -30) & indx\n",
        "        indx = (df['score_text'] != 'N/A') & indx\n",
        "        indx = (df['c_charge_degree'] != \"O\") & indx\n",
        "        \n",
        "        df = df.loc[indx,:]\n",
        "        df['length_of_stay'] = (pd.to_datetime(df['c_jail_out'])- pd.to_datetime(df['c_jail_in'])) / np.timedelta64(1, 'D')\n",
        "        \n",
        "        df_filter = df.loc[~df['race'].isin(['Native American','Hispanic','Asian','Other']),:]\n",
        "\n",
        "        df_filter_fields = df_filter[['sex','race','age_cat','c_charge_degree','score_text','priors_count','is_recid','two_year_recid','length_of_stay']].copy()\n",
        "\n",
        "        df_filter_fields['priors_count'] = df_filter_fields['priors_count'].apply(lambda x: quantizePrior(x))\n",
        "        df_filter_fields['length_of_stay'] = df_filter_fields['length_of_stay'].apply(lambda x: quantizeLOS(x))\n",
        "        df_filter_fields['score_text'] = df_filter_fields['score_text'].apply(lambda x: quantizeScore(x))\n",
        "        df_filter_fields['age_cat'] = df_filter_fields['age_cat'].apply(lambda x: adjustAge(x))\n",
        "\n",
        "        df_filter_fields['sex'] = df_filter_fields['sex'].replace({'Female': 1.0, 'Male': 0.0})\n",
        "        df_filter_fields['race'] = df_filter_fields['race'].apply(lambda x: group_race(x))\n",
        "        df = df_filter_fields[features]\n",
        "        return df\n",
        "\n",
        "    list_features = ['age_cat', 'c_charge_degree', 'priors_count', 'sex', 'race']\n",
        "    D_features = [protected_attributes]  if protected_attributes is None else protected_attributes\n",
        "    Y_features = ['two_year_recid']\n",
        "    X_features = list(set(list_features)-set(D_features))\n",
        "    category_features = ['age_cat', 'priors_count', 'c_charge_degree']\n",
        "\n",
        "    all_privileged_classes = {\"sex\": [1.0],\n",
        "                              \"race\": [1.0]}\n",
        "\n",
        "    all_bias_maps = {\"sex\": {0.0: 'Male', 1.0: 'Female'},\n",
        "                                    \"race\": {1.0: 'Caucasian', 0.0: 'Not Caucasian'}}\n",
        "\n",
        "\n",
        "    return CompasDataset(\n",
        "        label_name=Y_features[0],\n",
        "        favorable_classes=[0],\n",
        "        protected_attribute_names=D_features,\n",
        "        privileged_classes=[all_privileged_classes[x] for x in D_features],\n",
        "        instance_weights_name=None,\n",
        "        categorical_features=category_features,\n",
        "        features_to_keep=X_features+Y_features+D_features,\n",
        "        na_values=[],\n",
        "        metadata={'label_maps': [{1.0: 'Did recid.', 0.0: 'No recid.'}],\n",
        "                  'protected_attribute_maps': [all_bias_maps[x]\n",
        "                                for x in D_features]},\n",
        "        custom_preprocessing=preprocessing)\n"
      ]
    },
    {
      "cell_type": "code",
      "execution_count": 5,
      "metadata": {
        "id": "Q4fT8L_sbcHl"
      },
      "outputs": [],
      "source": [
        "\n",
        "bias_toggle = 0 \n",
        "if bias_toggle == 1:\n",
        "    privileged_groups = [{'sex': 1}]\n",
        "    unprivileged_groups = [{'sex': 0}]\n",
        "    dataset_orig = load_preproc_data_compas(['sex'])\n",
        "else:\n",
        "    privileged_groups = [{'race': 1}]\n",
        "    unprivileged_groups = [{'race': 0}]  \n",
        "    dataset_orig = load_preproc_data_compas_data(['race'])\n",
        "\n",
        "np.random.seed(1)"
      ]
    },
    {
      "cell_type": "markdown",
      "metadata": {
        "id": "RH55G4E6bcHm"
      },
      "source": [
        "#### Split into train, test and validation"
      ]
    },
    {
      "cell_type": "code",
      "execution_count": 6,
      "metadata": {
        "id": "b4eQdLbibcHm"
      },
      "outputs": [],
      "source": [
        "orig_train_set, orig_valid_set = dataset_orig.split([0.7], shuffle=True)\n",
        "dataset_orig_valid, dataset_orig_test = orig_valid_set.split([0.5], shuffle=True)"
      ]
    },
    {
      "cell_type": "markdown",
      "metadata": {
        "id": "0Clpk4w0bcHn"
      },
      "source": [
        "#### Clean up training data and display properties of the data"
      ]
    },
    {
      "cell_type": "code",
      "execution_count": 7,
      "metadata": {
        "colab": {
          "base_uri": "https://localhost:8080/"
        },
        "id": "Wxpb9GgLbcHn",
        "outputId": "73cbc1fe-9d29-4c1b-c5e3-a722a30240ba"
      },
      "outputs": [
        {
          "output_type": "stream",
          "name": "stdout",
          "text": [
            "Training Dataset shape:  (3694, 10)\n",
            "Favorable and unfavorable labels:  0.0 1.0\n",
            "Protected attribute names:  ['race']\n",
            "Dataset feature names: ['sex', 'race', 'age_cat=25 to 45', 'age_cat=Greater than 45', 'age_cat=Less than 25', 'priors_count=0', 'priors_count=1 to 3', 'priors_count=More than 3', 'c_charge_degree=F', 'c_charge_degree=M']\n"
          ]
        }
      ],
      "source": [
        "# print out some labels, names, etc.\n",
        "print(\"Training Dataset shape: \", orig_train_set.features.shape  )\n",
        "print(\"Favorable and unfavorable labels: \",orig_train_set.favorable_label, orig_train_set.unfavorable_label)\n",
        "print(\"Protected attribute names: \", orig_train_set.protected_attribute_names)\n",
        "print(\"Dataset feature names:\", orig_train_set.feature_names)"
      ]
    },
    {
      "cell_type": "markdown",
      "metadata": {
        "id": "GP-vUh5HbcHp"
      },
      "source": [
        "#### Metric for original training data"
      ]
    },
    {
      "cell_type": "code",
      "execution_count": 8,
      "metadata": {
        "colab": {
          "base_uri": "https://localhost:8080/"
        },
        "id": "55h_AOMNbcHp",
        "outputId": "e886afd4-5078-4cfb-e6d7-7b9633e17933"
      },
      "outputs": [
        {
          "output_type": "stream",
          "name": "stdout",
          "text": [
            "Original training dataset....\n",
            "Difference in mean outcomes between unprivileged and privileged groups =  -0.1271\n"
          ]
        }
      ],
      "source": [
        "metric_orig_train = BinaryLabelDatasetMetric(orig_train_set, unprivileged_groups=unprivileged_groups, privileged_groups=privileged_groups)\n",
        "print(\"Original training dataset....\")\n",
        "print(\"Difference in mean outcomes between unprivileged and privileged groups = \", float(round(metric_orig_train.mean_difference(),4)))"
      ]
    },
    {
      "cell_type": "markdown",
      "metadata": {
        "id": "Auj_lGuIbcHp"
      },
      "source": [
        "### Train classifier on original data"
      ]
    },
    {
      "cell_type": "code",
      "execution_count": 9,
      "metadata": {
        "id": "NeJuBrzBbcHq"
      },
      "outputs": [],
      "source": [
        "# Logistic regression classifier and predictions\n",
        "from sklearn.calibration import CalibratedClassifierCV\n",
        "from sklearn.linear_model import LogisticRegression, Perceptron, RidgeClassifier, SGDClassifier\n",
        "\n",
        "def scaling(ds):\n",
        "    orig_scaling = StandardScaler()\n",
        "    x = orig_scaling.fit_transform(ds.features)\n",
        "    y = ds.labels.ravel()\n",
        "    return orig_scaling, x, y\n",
        "\n",
        "def Linear_SVC (a,b):\n",
        "    linear_svc = LinearSVC(dual=False)  # dual=False when n_samples > n_features.\n",
        "    clf = linear_svc.fit(a, b)\n",
        "    calibrator = CalibratedClassifierCV(clf, cv='prefit')\n",
        "    model=calibrator.fit(a,b)\n",
        "    return model\n",
        "\n",
        "def RandomForest(a, b, c):\n",
        "    clf = RandomForestClassifier()\n",
        "    clf.fit(a, b, sample_weight=c.instance_weights)\n",
        "    return clf\n",
        "\n",
        "def NaiveBayes(a, b):\n",
        "    classifier = GaussianNB()\n",
        "    classifier.fit(a, b)\n",
        "    return classifier\n",
        "\n",
        "orig_scaling, X_train, y_train = scaling(orig_train_set)\n",
        "classifier_used = NaiveBayes(X_train, y_train)\n",
        "y_train_pred = round(classifier_used.score(X_train, y_train) * 100, 2)"
      ]
    },
    {
      "cell_type": "markdown",
      "metadata": {
        "id": "_YmbCi6PbcHq"
      },
      "source": [
        "#### Obtain scores for validation and test sets"
      ]
    },
    {
      "cell_type": "code",
      "execution_count": 10,
      "metadata": {
        "id": "lQ6Gb39wbcHq"
      },
      "outputs": [],
      "source": [
        "filter = (classifier_used.classes_ == orig_train_set.favorable_label)\n",
        "pos_index = np.where(filter)[0][0]\n",
        "orig_train_pred_data = orig_train_set.copy(deepcopy=True)\n",
        "orig_train_pred_data.labels = y_train_pred\n",
        "\n",
        "orig_valid_pred_data = dataset_orig_valid.copy(deepcopy=True)\n",
        "X_valid = orig_scaling.transform(orig_valid_pred_data.features)\n",
        "y_valid = orig_valid_pred_data.labels\n",
        "orig_valid_pred_data.scores = classifier_used.predict_proba(X_valid)[:,pos_index].reshape(-1,1)\n",
        "\n",
        "orig_test_pred_data = dataset_orig_test.copy(deepcopy=True)\n",
        "X_test = orig_scaling.transform(orig_test_pred_data.features)\n",
        "y_test = orig_test_pred_data.labels\n",
        "orig_test_pred_data.scores = classifier_used.predict_proba(X_test)[:,pos_index].reshape(-1,1)"
      ]
    },
    {
      "cell_type": "markdown",
      "metadata": {
        "id": "dzi1J-OWbcHr"
      },
      "source": [
        "#### Best threshold for classification only (no fairness)"
      ]
    },
    {
      "cell_type": "code",
      "execution_count": 11,
      "metadata": {
        "colab": {
          "base_uri": "https://localhost:8080/"
        },
        "id": "hduqisSbbA4X",
        "outputId": "9c08b6c6-f256-42df-f090-5df72ed9557b"
      },
      "outputs": [
        {
          "output_type": "stream",
          "name": "stdout",
          "text": [
            "Best balanced accuracy (no fairness constraints) =  0.6567\n",
            "Optimal classification threshold (no fairness constraints) =  0.5049\n"
          ]
        }
      ],
      "source": [
        "threshold_count = 100\n",
        "acc_bal = []\n",
        "class_thresh_array = np.linspace(0.01, 0.99, threshold_count)\n",
        "\n",
        "def threshold_classification(class_thresh_arr, dataset_orig_valid, valid_pred_dataset, unpvg, pvg, balanced_accuracy):\n",
        "    for class_thresh in class_thresh_arr:\n",
        "        valued_indices = valid_pred_dataset.scores > class_thresh\n",
        "        valid_pred_dataset.labels[valued_indices] = valid_pred_dataset.favorable_label\n",
        "        valid_pred_dataset.labels[~valued_indices] = valid_pred_dataset.unfavorable_label\n",
        "        \n",
        "        classified_metric_orig_valid = ClassificationMetric(dataset_orig_valid,valid_pred_dataset, \n",
        "                                                unprivileged_groups=unpvg,\n",
        "                                                privileged_groups=pvg)\n",
        "        avg_rates = (classified_metric_orig_valid.true_positive_rate()+classified_metric_orig_valid.true_negative_rate())/2\n",
        "        balanced_accuracy.append(avg_rates)\n",
        "    \n",
        "    filtered = (balanced_accuracy == np.max(balanced_accuracy))\n",
        "    y = class_thresh_arr[np.where(filtered)[0][0]]\n",
        "    return y, balanced_accuracy\n",
        "\n",
        "best_class_thresh, bal_acc = threshold_classification(class_thresh_array, dataset_orig_valid, orig_valid_pred_data, unprivileged_groups, privileged_groups, acc_bal)\n",
        "\n",
        "print(\"Best balanced accuracy (no fairness constraints) = \" , float(round(np.max(bal_acc),4)))\n",
        "print(\"Optimal classification threshold (no fairness constraints) = \", float(round(best_class_thresh,4)))"
      ]
    },
    {
      "cell_type": "markdown",
      "metadata": {
        "id": "FAVZ6DzZbcHr"
      },
      "source": [
        "#### Estimate optimal parameters for the ROC method"
      ]
    },
    {
      "cell_type": "code",
      "execution_count": 12,
      "metadata": {
        "id": "obdkBBXJbcHr"
      },
      "outputs": [],
      "source": [
        "upper_bound = 0.05\n",
        "lower_bound = -0.05\n",
        "metric_name = \"Statistical parity difference\"\n",
        "\n",
        "classifier_used_roc = RejectOptionClassification(unprivileged_groups=unprivileged_groups, privileged_groups=privileged_groups,low_class_thresh=0.01, \n",
        "                                 high_class_thresh=0.99,num_class_thresh=100, num_ROC_margin=50,metric_name=metric_name, \n",
        "                                 metric_ub=upper_bound, metric_lb=lower_bound)\n",
        "ROC = classifier_used_roc.fit(dataset_orig_valid, orig_valid_pred_data)"
      ]
    },
    {
      "cell_type": "code",
      "execution_count": 13,
      "metadata": {
        "colab": {
          "base_uri": "https://localhost:8080/"
        },
        "id": "nx_6iPusbcHs",
        "outputId": "682bc820-591a-4d50-d077-b2be00ed44e5"
      },
      "outputs": [
        {
          "output_type": "stream",
          "name": "stdout",
          "text": [
            "Optimal classification threshold (with fairness constraints) =  0.6534\n",
            "Optimal ROC margin =  0.1485\n"
          ]
        }
      ],
      "source": [
        "print(\"Optimal classification threshold (with fairness constraints) = \",float(round(ROC.classification_threshold,4)))\n",
        "print(\"Optimal ROC margin = \", float(round(ROC.ROC_margin,4)))"
      ]
    },
    {
      "cell_type": "markdown",
      "metadata": {
        "id": "P1npUyDKbcHs"
      },
      "source": [
        "### Predictions from Validation Set"
      ]
    },
    {
      "cell_type": "code",
      "execution_count": 14,
      "metadata": {
        "id": "Q4V_ho7-YvIL"
      },
      "outputs": [],
      "source": [
        "def plot_comparison_graphs(X,y):\n",
        "\n",
        "    plt.subplot(1, 2, 1)\n",
        "    lst = [X['Statistical parity difference'],y['Statistical parity difference'] ]\n",
        "    plt.bar(['before','after'],lst , width=0.2)\n",
        "    plt.ylim(-0.5,0.5)\n",
        "    plt.title('Statistical parity difference')\n",
        "    plt.subplot(1, 2, 2)\n",
        "    lst=[X['Disparate impact'],y['Disparate impact'] ]\n",
        "    plt.bar(['before','after'],lst , width=0.2)\n",
        "    plt.title('Disparate impact')\n",
        "    plt.ylim(-0.5,2)\n",
        "    plt.show()\n",
        "\n",
        "    plt.subplot(1, 2, 1)\n",
        "    lst=[X['Average odds difference'],y['Average odds difference'] ]\n",
        "    plt.bar(['before','after'],lst , width=0.2)\n",
        "    plt.ylim(-0.5,0.5)\n",
        "    plt.title('Average odds difference')\n",
        "    plt.subplot(1, 2, 2)\n",
        "    lst=[X['Equal opportunity difference'],y['Equal opportunity difference'] ]\n",
        "    plt.bar(['before','after'],lst , width=0.2)\n",
        "    plt.title('Equal opportunity difference')\n",
        "    plt.ylim(-0.5,0.25)\n",
        "    plt.show()"
      ]
    },
    {
      "cell_type": "code",
      "execution_count": 15,
      "metadata": {
        "colab": {
          "base_uri": "https://localhost:8080/"
        },
        "id": "wdT7q716bcHs",
        "outputId": "bf8ce1e0-31c0-4b10-d693-c013ae2195f6"
      },
      "outputs": [
        {
          "output_type": "stream",
          "name": "stdout",
          "text": [
            "Validation set\n",
            "Raw predictions - No fairness constraints, only maximizing balanced accuracy\n",
            "\n",
            "Balanced accuracy = 0.6566781477229238\n",
            "Statistical parity difference = -0.30752047654504844\n",
            "Disparate impact = 0.5542363734484619\n",
            "Average odds difference = -0.2756372338779556\n",
            "Equal opportunity difference = -0.27365321874751336\n",
            "Theil index = 0.23117785242410177\n"
          ]
        }
      ],
      "source": [
        "valued_indices = orig_valid_pred_data.scores > best_class_thresh\n",
        "orig_valid_pred_data.labels[valued_indices] = orig_valid_pred_data.favorable_label\n",
        "orig_valid_pred_data.labels[~valued_indices] = orig_valid_pred_data.unfavorable_label\n",
        "\n",
        "print(\"Validation set\")\n",
        "print(\"Raw predictions - No fairness constraints, only maximizing balanced accuracy\\n\")\n",
        "\n",
        "before_valid_metric = compute_metrics(dataset_orig_valid, orig_valid_pred_data, unprivileged_groups, privileged_groups)"
      ]
    },
    {
      "cell_type": "code",
      "execution_count": 16,
      "metadata": {
        "colab": {
          "base_uri": "https://localhost:8080/"
        },
        "id": "09SfL1C_bcHs",
        "outputId": "0ced93dd-b83b-4877-eff1-d845ff8ece58"
      },
      "outputs": [
        {
          "output_type": "stream",
          "name": "stdout",
          "text": [
            "Validation set\n",
            "Transformed predictions - With fairness constraints \n",
            "\n",
            "Balanced accuracy = 0.6374282433983927\n",
            "Statistical parity difference = -0.04802680565897249\n",
            "Disparate impact = 0.8884083044982698\n",
            "Average odds difference = -0.017741855265591217\n",
            "Equal opportunity difference = -0.002466778069547204\n",
            "Theil index = 0.3013289251374198\n"
          ]
        }
      ],
      "source": [
        "transformed_valid_pred_data = ROC.predict(orig_valid_pred_data)\n",
        "\n",
        "print(\"Validation set\")\n",
        "print(\"Transformed predictions - With fairness constraints \\n\")\n",
        "\n",
        "after_valid_metric = compute_metrics(dataset_orig_valid, transformed_valid_pred_data, unprivileged_groups, privileged_groups)"
      ]
    },
    {
      "cell_type": "code",
      "execution_count": 17,
      "metadata": {
        "colab": {
          "base_uri": "https://localhost:8080/",
          "height": 545
        },
        "id": "wMuyIjF0ZytN",
        "outputId": "017be00f-fff3-468a-d8d4-ee9a3bb0dc1c"
      },
      "outputs": [
        {
          "output_type": "display_data",
          "data": {
            "text/plain": [
              "<Figure size 432x288 with 2 Axes>"
            ],
            "image/png": "[encoded data removed]"
          },
          "metadata": {
            "needs_background": "light"
          }
        },
        {
          "output_type": "display_data",
          "data": {
            "text/plain": [
              "<Figure size 432x288 with 2 Axes>"
            ],
            "image/png": "[encoded data removed]"
          },
          "metadata": {
            "needs_background": "light"
          }
        }
      ],
      "source": [
        "plot_comparison_graphs(before_valid_metric, after_valid_metric)"
      ]
    },
    {
      "cell_type": "markdown",
      "metadata": {
        "id": "oYJI8bJPbcHt"
      },
      "source": [
        "### Predictions from Test Set"
      ]
    },
    {
      "cell_type": "code",
      "execution_count": 18,
      "metadata": {
        "colab": {
          "base_uri": "https://localhost:8080/"
        },
        "id": "CzCIBOmybcHt",
        "outputId": "fbca3962-0dc0-4dd4-8198-f0f5b7ac5c1d"
      },
      "outputs": [
        {
          "output_type": "stream",
          "name": "stdout",
          "text": [
            "Test set... Raw predictions - No fairness constraints, only maximizing balanced accuracy \n",
            "\n",
            "Balanced accuracy = 0.6552928121831296\n",
            "Statistical parity difference = -0.24830502296420504\n",
            "Disparate impact = 0.6154888236622262\n",
            "Average odds difference = -0.19944879945455676\n",
            "Equal opportunity difference = -0.19799440298507465\n",
            "Theil index = 0.2382366915836447\n"
          ]
        }
      ],
      "source": [
        "valued_indices_test = orig_test_pred_data.scores > best_class_thresh\n",
        "orig_test_pred_data.labels[valued_indices_test] = orig_test_pred_data.favorable_label\n",
        "orig_test_pred_data.labels[~valued_indices_test] = orig_test_pred_data.unfavorable_label\n",
        "\n",
        "print(\"Test set... Raw predictions - No fairness constraints, only maximizing balanced accuracy \\n\")\n",
        "\n",
        "before_test_metric = compute_metrics(dataset_orig_test, orig_test_pred_data, unprivileged_groups, privileged_groups)"
      ]
    },
    {
      "cell_type": "code",
      "execution_count": 19,
      "metadata": {
        "colab": {
          "base_uri": "https://localhost:8080/"
        },
        "id": "_tMo2RIzbcHt",
        "outputId": "16b45f07-6cb1-4e1f-cb92-fbd0fa1763a9"
      },
      "outputs": [
        {
          "output_type": "stream",
          "name": "stdout",
          "text": [
            "Test set... Transformed predictions - With fairness constraints \n",
            "\n",
            "Balanced accuracy = 0.6394899462396448\n",
            "Statistical parity difference = -0.03513887876357802\n",
            "Disparate impact = 0.918773171553758\n",
            "Average odds difference = 0.014954087684550865\n",
            "Equal opportunity difference = 0.010338930348258724\n",
            "Theil index = 0.29681192366605186\n"
          ]
        }
      ],
      "source": [
        "transformed_test_pred_data = ROC.predict(orig_test_pred_data)\n",
        "\n",
        "print(\"Test set... Transformed predictions - With fairness constraints \\n\")\n",
        "\n",
        "after_test_metric = compute_metrics(dataset_orig_test, transformed_test_pred_data, unprivileged_groups, privileged_groups)"
      ]
    },
    {
      "cell_type": "code",
      "execution_count": 20,
      "metadata": {
        "colab": {
          "base_uri": "https://localhost:8080/",
          "height": 545
        },
        "id": "pqbSIxvckZYq",
        "outputId": "99fd51bc-f6f2-4c85-9f1d-e7edaf692fd1"
      },
      "outputs": [
        {
          "output_type": "display_data",
          "data": {
            "text/plain": [
              "<Figure size 432x288 with 2 Axes>"
            ],
            "image/png": "[encoded data removed]"
          },
          "metadata": {
            "needs_background": "light"
          }
        },
        {
          "output_type": "display_data",
          "data": {
            "text/plain": [
              "<Figure size 432x288 with 2 Axes>"
            ],
            "image/png": "[encoded data removed]"
          },
          "metadata": {
            "needs_background": "light"
          }
        }
      ],
      "source": [
        "plot_comparison_graphs(before_test_metric, after_test_metric)"
      ]
    },
    {
      "cell_type": "code",
      "execution_count": 20,
      "metadata": {
        "id": "JPaAs6R4pK3z"
      },
      "outputs": [],
      "source": []
    }
  ],
  "metadata": {
    "colab": {
      "provenance": []
    },
    "gpuClass": "standard",
    "kernelspec": {
      "display_name": "Python 3",
      "name": "python3"
    },
    "language_info": {
      "name": "python"
    }
  },
  "nbformat": 4,
  "nbformat_minor": 0
}